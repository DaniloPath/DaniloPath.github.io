{
  "nbformat": 4,
  "nbformat_minor": 0,
  "metadata": {
    "colab": {
      "provenance": [],
      "authorship_tag": "ABX9TyPgaMxJI0zwVu70Kq6NJUrY",
      "include_colab_link": true
    },
    "kernelspec": {
      "name": "python3",
      "display_name": "Python 3"
    },
    "language_info": {
      "name": "python"
    }
  },
  "cells": [
    {
      "cell_type": "markdown",
      "metadata": {
        "id": "view-in-github",
        "colab_type": "text"
      },
      "source": [
        "<a href=\"https://colab.research.google.com/github/DaniloPath/DaniloPath.github.io/blob/main/Untitled0.ipynb\" target=\"_parent\"><img src=\"https://colab.research.google.com/assets/colab-badge.svg\" alt=\"Open In Colab\"/></a>"
      ]
    },
    {
      "cell_type": "code",
      "execution_count": null,
      "metadata": {
        "id": "eqPhW5M_cC0t"
      },
      "outputs": [],
      "source": [
        "# Importando da biblioteca shapely os comandos para criar pontos, linhas e polígonos\n",
        "from shapely.geometry import Point, LineString, Polygon"
      ]
    },
    {
      "cell_type": "code",
      "source": [
        "point1 = Point(2,5)\n",
        "point2 = Point(3,8)\n",
        "point3 = Point(6,11)\n",
        "point3D = Point(2,4,1)\n",
        "\n",
        "x1 = Point(point1).x\n",
        "x2 = Point(point2).x\n",
        "x3 = Point(point3).x\n",
        "x3D = Point(point3D).x\n",
        "\n",
        "y1 = Point(point1).y\n",
        "y2 = Point(point2).y\n",
        "y3 = Point(point3).y\n",
        "y3D = Point(point3D).y"
      ],
      "metadata": {
        "id": "T0Yy5OCPfRuO"
      },
      "execution_count": null,
      "outputs": []
    },
    {
      "cell_type": "code",
      "source": [
        "print(f\"As coordenadas de X e Y do ponto 1: {x1}, {y1}\")"
      ],
      "metadata": {
        "colab": {
          "base_uri": "https://localhost:8080/"
        },
        "id": "uuA6ixK3hVO3",
        "outputId": "dc92c9fe-f850-48fc-9931-7b54f19a7ab4"
      },
      "execution_count": null,
      "outputs": [
        {
          "output_type": "stream",
          "name": "stdout",
          "text": [
            "As coordenadas de X e Y do ponto 1: 2.0, 5.0\n"
          ]
        }
      ]
    },
    {
      "cell_type": "code",
      "source": [
        "print(f\"As coordenadas de X e Y do ponto 2: {x2}, {y2}\")"
      ],
      "metadata": {
        "colab": {
          "base_uri": "https://localhost:8080/"
        },
        "id": "oYYPAHAtlHr3",
        "outputId": "c87919dc-8757-4fdd-ad59-2d112a961b1b"
      },
      "execution_count": null,
      "outputs": [
        {
          "output_type": "stream",
          "name": "stdout",
          "text": [
            "As coordenadas de X e Y do ponto 2: 3.0, 8.0\n"
          ]
        }
      ]
    },
    {
      "cell_type": "code",
      "source": [
        "# Distância entre os pontos 1 e 2\n",
        "dist = point1.distance(point2)\n",
        "print(f\"A distância entre os pontos 1 e 2: {dist}\")"
      ],
      "metadata": {
        "colab": {
          "base_uri": "https://localhost:8080/"
        },
        "id": "nwFrnWFSlOEO",
        "outputId": "d49a425d-e753-4c5c-82c6-504b641489db"
      },
      "execution_count": null,
      "outputs": [
        {
          "output_type": "stream",
          "name": "stdout",
          "text": [
            "A distância entre os pontos 1 e 2: 3.1622776601683795\n"
          ]
        }
      ]
    },
    {
      "cell_type": "code",
      "source": [
        "# Coordenadas do ponto 1\n",
        "list(point1.coords)"
      ],
      "metadata": {
        "colab": {
          "base_uri": "https://localhost:8080/"
        },
        "id": "KOeKoAnfl1nX",
        "outputId": "a4f5d847-69d5-449e-b32e-a1e393100d7b"
      },
      "execution_count": null,
      "outputs": [
        {
          "output_type": "execute_result",
          "data": {
            "text/plain": [
              "[(2.0, 5.0)]"
            ]
          },
          "metadata": {},
          "execution_count": 32
        }
      ]
    },
    {
      "cell_type": "code",
      "source": [
        "# Coordenadas do ponto 2\n",
        "list(point2.coords)"
      ],
      "metadata": {
        "colab": {
          "base_uri": "https://localhost:8080/"
        },
        "id": "0fd3Vp0Amwyn",
        "outputId": "8be724ce-a644-47aa-9190-07f4ce87d725"
      },
      "execution_count": null,
      "outputs": [
        {
          "output_type": "execute_result",
          "data": {
            "text/plain": [
              "[(3.0, 8.0)]"
            ]
          },
          "metadata": {},
          "execution_count": 33
        }
      ]
    },
    {
      "cell_type": "code",
      "source": [
        "# Coordenadas do ponto 3\n",
        "list(point3D.coords)"
      ],
      "metadata": {
        "colab": {
          "base_uri": "https://localhost:8080/"
        },
        "id": "7SpyKbajm0hE",
        "outputId": "2d9486d1-fab7-4891-f4c4-1a20351b8114"
      },
      "execution_count": null,
      "outputs": [
        {
          "output_type": "execute_result",
          "data": {
            "text/plain": [
              "[(2.0, 4.0, 1.0)]"
            ]
          },
          "metadata": {},
          "execution_count": 34
        }
      ]
    },
    {
      "cell_type": "code",
      "source": [
        "# Tipos de geometrias\n",
        "point3D.geom_type"
      ],
      "metadata": {
        "colab": {
          "base_uri": "https://localhost:8080/",
          "height": 36
        },
        "id": "Dkd_RfC9m7Rs",
        "outputId": "95c06368-74ed-43d7-9c5a-4546f9620696"
      },
      "execution_count": null,
      "outputs": [
        {
          "output_type": "execute_result",
          "data": {
            "text/plain": [
              "'Point'"
            ],
            "application/vnd.google.colaboratory.intrinsic+json": {
              "type": "string"
            }
          },
          "metadata": {},
          "execution_count": 39
        }
      ]
    },
    {
      "cell_type": "code",
      "source": [
        "from shapely.geometry.multilinestring import linestring\n",
        "# Trabalhando com Strings de Linhas\n",
        "line = LineString([point1,point2,point3])\n",
        "\n",
        "line"
      ],
      "metadata": {
        "colab": {
          "base_uri": "https://localhost:8080/",
          "height": 122
        },
        "id": "mHIwfsK6qYQQ",
        "outputId": "33bdb0a9-73ca-4b09-960f-366799aed8aa"
      },
      "execution_count": null,
      "outputs": [
        {
          "output_type": "execute_result",
          "data": {
            "text/plain": [
              "<shapely.geometry.linestring.LineString at 0x7f8fb4375910>"
            ],
            "image/svg+xml": "<svg xmlns=\"http://www.w3.org/2000/svg\" xmlns:xlink=\"http://www.w3.org/1999/xlink\" width=\"100.0\" height=\"100.0\" viewBox=\"1.76 4.76 4.48 6.48\" preserveAspectRatio=\"xMinYMin meet\"><g transform=\"matrix(1,0,0,-1,0,16.0)\"><polyline fill=\"none\" stroke=\"#66cc99\" stroke-width=\"0.12960000000000002\" points=\"2.0,5.0 3.0,8.0 6.0,11.0\" opacity=\"0.8\" /></g></svg>"
          },
          "metadata": {},
          "execution_count": 41
        }
      ]
    },
    {
      "cell_type": "code",
      "source": [
        "# Comparando duas linhas\n",
        "line2 = LineString([(2,5),(3,8),(6,11)])\n",
        "line3 = LineString([(2,2),(3,4),(4,6)])\n",
        "\n",
        "# Iguais\n",
        "line == line2"
      ],
      "metadata": {
        "colab": {
          "base_uri": "https://localhost:8080/"
        },
        "id": "PttE35B4rTK4",
        "outputId": "922a3445-f536-4a34-b61b-b5ddfec49ebc"
      },
      "execution_count": null,
      "outputs": [
        {
          "output_type": "execute_result",
          "data": {
            "text/plain": [
              "True"
            ]
          },
          "metadata": {},
          "execution_count": 45
        }
      ]
    },
    {
      "cell_type": "code",
      "source": [
        "# Diferentes\n",
        "line == line3"
      ],
      "metadata": {
        "colab": {
          "base_uri": "https://localhost:8080/"
        },
        "id": "vwDwZSCmsXNx",
        "outputId": "47d5e441-c60b-4c39-ca18-b666fca7754a"
      },
      "execution_count": null,
      "outputs": [
        {
          "output_type": "execute_result",
          "data": {
            "text/plain": [
              "False"
            ]
          },
          "metadata": {},
          "execution_count": 46
        }
      ]
    },
    {
      "cell_type": "code",
      "source": [
        "line3"
      ],
      "metadata": {
        "colab": {
          "base_uri": "https://localhost:8080/",
          "height": 122
        },
        "id": "EeiH_stutddo",
        "outputId": "2a6215e7-307c-4ee1-e63f-67262166c3b3"
      },
      "execution_count": null,
      "outputs": [
        {
          "output_type": "execute_result",
          "data": {
            "text/plain": [
              "<shapely.geometry.linestring.LineString at 0x7f8fb48f44d0>"
            ],
            "image/svg+xml": "<svg xmlns=\"http://www.w3.org/2000/svg\" xmlns:xlink=\"http://www.w3.org/1999/xlink\" width=\"100.0\" height=\"100.0\" viewBox=\"1.84 1.84 2.3200000000000003 4.32\" preserveAspectRatio=\"xMinYMin meet\"><g transform=\"matrix(1,0,0,-1,0,8.0)\"><polyline fill=\"none\" stroke=\"#66cc99\" stroke-width=\"0.0864\" points=\"2.0,2.0 3.0,4.0 4.0,6.0\" opacity=\"0.8\" /></g></svg>"
          },
          "metadata": {},
          "execution_count": 47
        }
      ]
    },
    {
      "cell_type": "code",
      "source": [
        "# Coordenadas das linhas\n",
        "\n",
        "list(line.coords)"
      ],
      "metadata": {
        "colab": {
          "base_uri": "https://localhost:8080/"
        },
        "id": "L3mIjVmytmsn",
        "outputId": "402bf332-3dac-4390-d668-fe1d11568e72"
      },
      "execution_count": null,
      "outputs": [
        {
          "output_type": "execute_result",
          "data": {
            "text/plain": [
              "[(2.0, 5.0), (3.0, 8.0), (6.0, 11.0)]"
            ]
          },
          "metadata": {},
          "execution_count": 49
        }
      ]
    },
    {
      "cell_type": "code",
      "source": [
        "# Só as coordenadas de x da lina 1\n",
        "xcoords1 = list(line.coords.xy[0])\n",
        "ycoords1 = list(line.coords.xy[1])\n",
        "\n",
        "xcoords1"
      ],
      "metadata": {
        "colab": {
          "base_uri": "https://localhost:8080/"
        },
        "id": "AC2x-SNft56Q",
        "outputId": "a986474a-0fb5-418c-d763-d1d0d926a6bc"
      },
      "execution_count": null,
      "outputs": [
        {
          "output_type": "execute_result",
          "data": {
            "text/plain": [
              "[2.0, 3.0, 6.0]"
            ]
          },
          "metadata": {},
          "execution_count": 56
        }
      ]
    },
    {
      "cell_type": "code",
      "source": [
        "# Só as coordenadas de y da lina 1\n",
        "ycoords1"
      ],
      "metadata": {
        "colab": {
          "base_uri": "https://localhost:8080/"
        },
        "id": "8wJTy6qpwF7p",
        "outputId": "dbfa6694-bcd4-4796-e180-6065d87c81d8"
      },
      "execution_count": null,
      "outputs": [
        {
          "output_type": "execute_result",
          "data": {
            "text/plain": [
              "[5.0, 8.0, 11.0]"
            ]
          },
          "metadata": {},
          "execution_count": 57
        }
      ]
    },
    {
      "cell_type": "code",
      "source": [
        "# Tamnho das linhas\n",
        "len(line.coords)"
      ],
      "metadata": {
        "colab": {
          "base_uri": "https://localhost:8080/"
        },
        "id": "6LXBRWGBwS4Q",
        "outputId": "8a59bf16-4f9c-4135-f24d-9b976eb5ab5d"
      },
      "execution_count": null,
      "outputs": [
        {
          "output_type": "execute_result",
          "data": {
            "text/plain": [
              "3"
            ]
          },
          "metadata": {},
          "execution_count": 59
        }
      ]
    }
  ]
}